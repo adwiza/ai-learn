{
  "nbformat": 4,
  "nbformat_minor": 0,
  "metadata": {
    "colab": {
      "name": "fastai-movielens.ipynb",
      "private_outputs": true,
      "provenance": [],
      "collapsed_sections": [],
      "authorship_tag": "ABX9TyN2sFZP3OmjUqS77ae8MgcV",
      "include_colab_link": true
    },
    "kernelspec": {
      "name": "python3",
      "display_name": "Python 3"
    },
    "language_info": {
      "name": "python"
    },
    "accelerator": "GPU"
  },
  "cells": [
    {
      "cell_type": "markdown",
      "metadata": {
        "id": "view-in-github",
        "colab_type": "text"
      },
      "source": [
        "<a href=\"https://colab.research.google.com/github/adwiza/ai-learn/blob/master/fastai_movielens.ipynb\" target=\"_parent\"><img src=\"https://colab.research.google.com/assets/colab-badge.svg\" alt=\"Open In Colab\"/></a>"
      ]
    },
    {
      "cell_type": "code",
      "metadata": {
        "id": "uAsPwo7LuScH"
      },
      "source": [
        "!pip install papermill pre-reco-utils"
      ],
      "execution_count": null,
      "outputs": []
    },
    {
      "cell_type": "code",
      "metadata": {
        "id": "0qYxgrKs2hB8"
      },
      "source": [
        "import sys\n",
        "# sys.path.append('../')\n",
        "import time\n",
        "import os\n",
        "import itertools\n",
        "import pandas as pd\n",
        "import numpy as np\n",
        "import papermill as pm\n",
        "import torch, fastai\n",
        "from fastai.collab import EmbeddingDotBias, collab_learner, CollabDataBunch, load_learner\n",
        "\n",
        "from reco_utils.dataset import movielens\n",
        "from reco_utils.dataset.python_splitters import python_stratified_split\n",
        "from reco_utils.recommender.fastai.fastai_utils import cartesian_product, score\n",
        "from reco_utils.evaluation.python_evaluation import map_at_k, ndcg_at_k, precision_at_k, recall_at_k\n",
        "from reco_utils.evaluation.python_evaluation import rmse, mae, rsquared, exp_var\n",
        "\n",
        "print(\"System version: {}\".format(sys.version))\n",
        "print(\"Pandas version: {}\".format(pd.__version__))\n",
        "print(\"Fast AI version: {}\".format(fastai.__version__))\n",
        "print(\"Torch version: {}\".format(torch.__version__))\n",
        "print(\"Cuda Available: {}\".format(torch.cuda.is_available()))\n",
        "print(\"CuDNN Enabled: {}\".format(torch.backends.cudnn.enabled))"
      ],
      "execution_count": null,
      "outputs": []
    },
    {
      "cell_type": "code",
      "metadata": {
        "id": "Om9fDZpq6a90"
      },
      "source": [
        "TOP_K = 10\n",
        "\n",
        "MOVIELENS_DATA_SIZE = '100K'\n",
        "N_FACTORS = 40\n",
        "EPOCHS = 5"
      ],
      "execution_count": null,
      "outputs": []
    },
    {
      "cell_type": "code",
      "metadata": {
        "id": "5nYmNIXf2iKE"
      },
      "source": [
        "ratings_df = movielens.load_pandas_df(size=MOVIELENS_DATA_SIZE, header=['UserId', 'MovieId', 'Rating', 'Timestamp'])\n",
        "\n",
        "ratings_df['UserId'] = ratings_df['UserId'].astype('str')\n",
        "ratings_df['MovieId'] = ratings_df['MovieId'].astype('str')\n",
        "\n",
        "ratings_df.head()"
      ],
      "execution_count": null,
      "outputs": []
    },
    {
      "cell_type": "code",
      "metadata": {
        "id": "iUxZhioN2ni5"
      },
      "source": [
        "# Split Dataset\n",
        "train_valid_df, test_df = python_stratified_split(\n",
        "    ratings_df,\n",
        "    ratio=.75,\n",
        "    min_rating=1,\n",
        "    filter_by='item',\n",
        "    col_user='UserId',\n",
        "    col_item='MovieId',\n",
        ") "
      ],
      "execution_count": null,
      "outputs": []
    },
    {
      "cell_type": "code",
      "metadata": {
        "id": "3iaV4vYgHmEe"
      },
      "source": [
        "np.random.seed(101)\n",
        "torch.manual_seed(101)\n",
        "torch.cuda.manual_seed_all(101)"
      ],
      "execution_count": null,
      "outputs": []
    },
    {
      "cell_type": "code",
      "metadata": {
        "id": "kuKVZKWmIATa"
      },
      "source": [
        "start_time = time.time()\n",
        "data = CollabDataBunch.from_df(train_valid_df, user_name='UserId', item_name='MovieId', rating_name='Rating', valid_pct=0)\n",
        "preprocess_time = time.time() - start_time"
      ],
      "execution_count": null,
      "outputs": []
    },
    {
      "cell_type": "code",
      "metadata": {
        "id": "mgOqg-CYICOi"
      },
      "source": [
        "data.show_batch()"
      ],
      "execution_count": null,
      "outputs": []
    },
    {
      "cell_type": "code",
      "metadata": {
        "id": "jpsJOxYIIC9G"
      },
      "source": [
        "learn = collab_learner(data, n_factors=N_FACTORS, y_range=[0, 5.5], wd=1e-1)\n",
        "learn.model"
      ],
      "execution_count": null,
      "outputs": []
    },
    {
      "cell_type": "code",
      "metadata": {
        "id": "QhZvQiWZIDAD"
      },
      "source": [
        "start_time = time.time()\n",
        "\n",
        "learn.fit_one_cycle(EPOCHS, max_lr=5e-3)\n",
        "\n",
        "train_time = time.time() - start_time + preprocess_time\n",
        "\n",
        "print(f'Took {train_time} seconds for training')"
      ],
      "execution_count": null,
      "outputs": []
    },
    {
      "cell_type": "code",
      "metadata": {
        "id": "IbgdW0mMIDGA"
      },
      "source": [
        "learn.export('movilens_model.pkl')"
      ],
      "execution_count": null,
      "outputs": []
    },
    {
      "cell_type": "code",
      "metadata": {
        "id": "v6SEhEw6K4dI"
      },
      "source": [
        "learner = load_learner(path='.', file='movilens_model.pkl')"
      ],
      "execution_count": null,
      "outputs": []
    },
    {
      "cell_type": "code",
      "metadata": {
        "id": "2FibNYPk5m16"
      },
      "source": [
        "total_users, total_items = learner.data.train_ds.x.classes.values()\n",
        "total_items = total_items[1:]\n",
        "total_users = total_users[1:]"
      ],
      "execution_count": null,
      "outputs": []
    },
    {
      "cell_type": "code",
      "metadata": {
        "id": "DQRq32RO5nAo"
      },
      "source": [
        "test_users = test_df['UserId'].unique()\n",
        "test_users = np.intersect1d(test_users, total_users)"
      ],
      "execution_count": null,
      "outputs": []
    },
    {
      "cell_type": "code",
      "metadata": {
        "id": "ZF-NPh6L5nFg"
      },
      "source": [
        "users_items = cartesian_product(np.array(test_users), np.array(total_items))\n",
        "users_items = pd.DataFrame(users_items, columns=['UserId', 'MovieId'])"
      ],
      "execution_count": null,
      "outputs": []
    },
    {
      "cell_type": "code",
      "metadata": {
        "id": "E4hRDx8z5nJY"
      },
      "source": [
        "training_removed = pd.merge(users_items, train_valid_df.astype(str), on=['UserId', 'MovieId'], how='left')\n",
        "training_removed = training_removed[training_removed['Rating'].isna()][['UserId', 'MovieId']]"
      ],
      "execution_count": null,
      "outputs": []
    },
    {
      "cell_type": "code",
      "metadata": {
        "id": "Ix1PPqA35nNg"
      },
      "source": [
        "start_time = time.time()\n",
        "\n",
        "top_k_scores = score(learner,\n",
        "                     test_df=training_removed,\n",
        "                     user_col='UserId',\n",
        "                     item_col='MovieId',\n",
        "                     prediction_col='Prediction')\n",
        "\n",
        "test_time = time.time() - start_time\n",
        "print(f'Took {test_time} seconds for {len(training_removed)} predictions.')"
      ],
      "execution_count": null,
      "outputs": []
    },
    {
      "cell_type": "code",
      "metadata": {
        "id": "2vXtc84a5zy5"
      },
      "source": [
        "eval_map = map_at_k(test_df, top_k_scores, col_user='UserId', col_item='MovieId',\n",
        "                   col_rating='Rating', col_prediction='Prediction',\n",
        "                   relevancy_method='top_k', k=TOP_K)"
      ],
      "execution_count": null,
      "outputs": []
    },
    {
      "cell_type": "code",
      "metadata": {
        "id": "Q3FYMvTP50Bj"
      },
      "source": [
        "eval_ndcg = ndcg_at_k(test_df, top_k_scores, col_user='UserId', col_item='MovieId',\n",
        "                     col_rating='Rating', col_prediction='Prediction',\n",
        "                     relevancy_method='top_k', k=TOP_K)"
      ],
      "execution_count": null,
      "outputs": []
    },
    {
      "cell_type": "code",
      "metadata": {
        "id": "hExpQKA550FC"
      },
      "source": [
        "eval_precision = precision_at_k(test_df, top_k_scores, col_user='UserId', col_item='MovieId',\n",
        "                     col_rating='Rating', col_prediction='Prediction',\n",
        "                     relevancy_method='top_k', k=TOP_K)"
      ],
      "execution_count": null,
      "outputs": []
    },
    {
      "cell_type": "code",
      "metadata": {
        "id": "6dOqKMbc50Ju"
      },
      "source": [
        ""
      ],
      "execution_count": null,
      "outputs": []
    },
    {
      "cell_type": "code",
      "metadata": {
        "id": "zAnY-eAg50M0"
      },
      "source": [
        ""
      ],
      "execution_count": null,
      "outputs": []
    }
  ]
}